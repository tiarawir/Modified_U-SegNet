{
 "cells": [
  {
   "cell_type": "code",
   "execution_count": 1,
   "id": "1c9b5119",
   "metadata": {},
   "outputs": [
    {
     "name": "stdout",
     "output_type": "stream",
     "text": [
      "Segmentation Models: using `tf.keras` framework.\n"
     ]
    }
   ],
   "source": [
    "from keras.utils import normalize\n",
    "import numpy as np\n",
    "from matplotlib import pyplot as plt\n",
    "import os\n",
    "os.environ[\"SM_FRAMEWORK\"] = \"tf.keras\"\n",
    "import sys\n",
    "import time\n",
    "\n",
    "from tensorflow import keras\n",
    "import segmentation_models as sm\n",
    "from tensorflow.keras.metrics import MeanIoU"
   ]
  },
  {
   "cell_type": "code",
   "execution_count": 2,
   "id": "16634cdc",
   "metadata": {},
   "outputs": [],
   "source": [
    "\"\"\"Load data\"\"\"\n",
    "sys.path.extend(['..'])\n",
    "from data.adv_data_generator import ImageLoader\n",
    "\n",
    "file = [\"train\"]\n",
    "type_mod = [\"img\",\"mask\",\"aug\"]\n",
    "dataset_aug = [[],[],[]]\n",
    "num = 0\n",
    "for i in file:\n",
    "    for j in type_mod:\n",
    "        loader = ImageLoader(i, j)\n",
    "        dataset_aug[num] = loader.loadAug()\n",
    "        num += 1\n",
    "\n",
    "train_img= dataset_aug[0]\n",
    "train_mask = dataset_aug[1]\n",
    "train_aug = dataset_aug[2]"
   ]
  },
  {
   "cell_type": "code",
   "execution_count": 3,
   "id": "32b0ddd2-f5b0-4258-9c68-94ac5db1f6f3",
   "metadata": {},
   "outputs": [],
   "source": [
    "sys.path.extend(['..'])\n",
    "from data.adv_data_generator import ImageLoader\n",
    "\n",
    "file = [\"val\",\"test\"]\n",
    "type_mod = [\"images\",\"masks\"]\n",
    "dataset = [[],[],[],[]]\n",
    "num = 0\n",
    "for i in file:\n",
    "    for j in type_mod:\n",
    "        loader = ImageLoader(i, j)\n",
    "        dataset[num] = loader.loadData()\n",
    "        num += 1\n",
    "\n",
    "val_img= dataset[0]\n",
    "val_mask = dataset[1]\n",
    "test_img = dataset[2]\n",
    "test_mask = dataset[3]"
   ]
  },
  {
   "cell_type": "code",
   "execution_count": 4,
   "id": "d983f015",
   "metadata": {},
   "outputs": [
    {
     "name": "stdout",
     "output_type": "stream",
     "text": [
      "(29920, 64, 64, 3)\n",
      "(32079, 64, 64, 3)\n",
      "(32079, 64, 64, 3)\n"
     ]
    }
   ],
   "source": [
    "\"\"\"Check the shape\"\"\"\n",
    "print(train_img.shape)\n",
    "print(val_img.shape)\n",
    "print(test_img.shape)"
   ]
  },
  {
   "cell_type": "code",
   "execution_count": null,
   "id": "560f56f2-2ce7-4c93-9d8a-4c40632f3eb3",
   "metadata": {},
   "outputs": [],
   "source": [
    "plt.figure(figsize=(12, 8))\n",
    "plt.subplot(131)\n",
    "plt.imshow(train_img[1])\n",
    "plt.title('Image')\n",
    "plt.subplot(132)\n",
    "plt.imshow(train_aug[1])\n",
    "plt.title('Augmented')\n",
    "plt.subplot(133)\n",
    "plt.imshow(train_mask[1])\n",
    "plt.title('Mask')\n",
    "plt.show()"
   ]
  },
  {
   "cell_type": "code",
   "execution_count": null,
   "id": "708c92b9-ef58-4e57-877e-7419aa9321d1",
   "metadata": {},
   "outputs": [],
   "source": [
    "plt.figure(figsize=(12, 8))\n",
    "plt.subplot(121)\n",
    "plt.imshow(test_img[12])\n",
    "plt.title('Image')\n",
    "plt.subplot(122)\n",
    "plt.imshow(test_mask[12])\n",
    "plt.title('Mask')\n",
    "plt.show()"
   ]
  },
  {
   "cell_type": "code",
   "execution_count": 5,
   "id": "6aa0c28b",
   "metadata": {},
   "outputs": [
    {
     "name": "stdout",
     "output_type": "stream",
     "text": [
      "6415\n",
      "6415\n",
      "[0 1 2 3 4 5 6 7]\n"
     ]
    }
   ],
   "source": [
    "import random\n",
    "\n",
    "'''\n",
    "(1) Set the seed\n",
    "(2) Generate a random permutation of indices\n",
    "(3) Use the same random indices for sampling both arrays\n",
    "'''\n",
    "\n",
    "def sampling(img, mask, seed, percentage=0.2):\n",
    "    sample_size = int(len(img) * percentage)\n",
    "    random.seed(seed)\n",
    "    random_indices = random.sample(range(len(img)), sample_size)\n",
    "    sample_img = img[random_indices]\n",
    "    sample_mask = mask[random_indices]\n",
    "\n",
    "    return sample_img, sample_mask\n",
    "\n",
    "sam_val_img, sam_val_mask = sampling(val_img, val_mask, 4)\n",
    "sam_test_img, sam_test_mask = sampling(test_img, test_mask, 7)\n",
    "\n",
    "print(sam_val_mask.shape[0])\n",
    "print(sam_test_mask.shape[0])\n",
    "print(np.unique(sam_val_mask))"
   ]
  },
  {
   "cell_type": "code",
   "execution_count": 6,
   "id": "e215a6b0",
   "metadata": {},
   "outputs": [],
   "source": [
    "'''Define variable to run the model'''\n",
    "# X = np.concatenate((mod_train_img, mod_train_aug), axis=0)\n",
    "# y = np.concatenate((mod_train_mask, mod_train_mask), axis=0)\n",
    "X, y = train_img, train_mask\n",
    "X_val = sam_val_img\n",
    "y_val = sam_val_mask"
   ]
  },
  {
   "cell_type": "code",
   "execution_count": 7,
   "id": "27ac2f76",
   "metadata": {},
   "outputs": [],
   "source": [
    "n_classes = 8\n",
    "from keras.utils import to_categorical\n",
    "y_cat = to_categorical(y, num_classes=n_classes)\n",
    "y_val_cat = to_categorical(y_val, num_classes=n_classes)"
   ]
  },
  {
   "cell_type": "code",
   "execution_count": 8,
   "id": "94c50c69",
   "metadata": {},
   "outputs": [],
   "source": [
    "from keras.models import Model\n",
    "from keras.layers import *"
   ]
  },
  {
   "cell_type": "code",
   "execution_count": 18,
   "id": "d5e15f23",
   "metadata": {},
   "outputs": [],
   "source": [
    "import tensorflow as tf\n",
    "from keras import backend as K\n",
    "from keras.layers import Layer\n",
    "\n",
    "def se_block(input_feature, ratio=2):\n",
    "\n",
    "    channel = input_feature.shape[3]\n",
    "\n",
    "    se_feature = GlobalAveragePooling2D()(input_feature)\n",
    "    se_feature = Reshape((1, 1, channel))(se_feature)\n",
    "    assert se_feature.shape[1:] == (1,1,channel)\n",
    "    se_feature = Dense(channel // ratio,\n",
    "                    activation='relu',\n",
    "                    kernel_initializer='he_normal',\n",
    "                    use_bias=True,\n",
    "                    bias_initializer='zeros')(se_feature)\n",
    "    assert se_feature.shape[1:] == (1,1,channel//ratio)\n",
    "    se_feature = Dense(channel,\n",
    "                    activation='sigmoid',\n",
    "                    kernel_initializer='he_normal',\n",
    "                    use_bias=True,\n",
    "                    bias_initializer='zeros')(se_feature)\n",
    "    assert se_feature.shape[1:] == (1,1,channel)\n",
    "\n",
    "    se_feature = multiply([input_feature, se_feature])\n",
    "    return se_feature\n",
    "\n",
    "def spatial_attention(input_feature):\n",
    "    kernel_size = 7\n",
    "\n",
    "    channel = input_feature.shape[3]\n",
    "    cbam_feature = input_feature\n",
    "\n",
    "    avg_pool = Lambda(lambda x: tf.reduce_mean(x, axis=3, keepdims=True),\n",
    "                      output_shape=lambda input_shape: (input_shape[0], input_shape[1], input_shape[2], 1))(cbam_feature)\n",
    "    assert avg_pool.shape[-1] == 1\n",
    "    max_pool = Lambda(lambda x: tf.reduce_max(x, axis=3, keepdims=True),\n",
    "                     output_shape=lambda input_shape: (input_shape[0], input_shape[1], input_shape[2], 1))(cbam_feature)\n",
    "    assert max_pool.shape[-1] == 1\n",
    "    concat = Concatenate(axis=3)([avg_pool, max_pool])\n",
    "    assert concat.shape[-1] == 2\n",
    "    cbam_feature = Conv2D(filters = 1,\n",
    "                kernel_size=kernel_size,\n",
    "                strides=1,\n",
    "                padding='same',\n",
    "                activation='sigmoid',\n",
    "                kernel_initializer='he_normal',\n",
    "                use_bias=False)(concat)\t\n",
    "    assert cbam_feature.shape[-1] == 1\n",
    "\n",
    "    return multiply([input_feature, cbam_feature])"
   ]
  },
  {
   "cell_type": "code",
   "execution_count": 19,
   "id": "b64d707a",
   "metadata": {},
   "outputs": [],
   "source": [
    "def usegnet_model_base(n_classes, IMG_HEIGHT, IMG_WIDTH, IMG_CHANNELS, pool_size=(2, 2)):\n",
    "\n",
    "    # encoder \n",
    "    \n",
    "    inputs = Input((IMG_HEIGHT, IMG_WIDTH, IMG_CHANNELS)) \n",
    "    \n",
    "    conv_1 = Conv2D(64, (3, 3), padding=\"same\", kernel_initializer='he_normal', name=\"block1_conv1\")(inputs) \n",
    "    conv_1 = BatchNormalization()(conv_1) \n",
    "    conv_1 = Activation(\"relu\")(conv_1) \n",
    "    conv_2 = Conv2D(64, (3, 3), padding=\"same\", kernel_initializer='he_normal', name=\"block1_conv2\")(conv_1) \n",
    "    conv_2 = BatchNormalization()(conv_2) \n",
    "    conv_2 = Activation(\"relu\")(conv_2)\n",
    "    se_1 = se_block(conv_2, 2)\n",
    "    \n",
    "    pool_1 = MaxPooling2D(pool_size, name=\"block1_pool\")(se_1)\n",
    "    \n",
    "    conv_3 = Conv2D(128, (3, 3), padding=\"same\" , kernel_initializer='he_normal', name=\"block2_conv1\")(pool_1)\n",
    "    conv_3 = BatchNormalization()(conv_3)\n",
    "    conv_3 = Activation(\"relu\")(conv_3)\n",
    "    conv_4 = Conv2D(128, (3, 3), padding=\"same\", kernel_initializer='he_normal',  name=\"block2_conv2\")(conv_3)\n",
    "    conv_4 = BatchNormalization()(conv_4)\n",
    "    conv_4 = Activation(\"relu\")(conv_4)\n",
    "    se_2 = se_block(conv_4, 2)\n",
    "    \n",
    "    pool_2 = MaxPooling2D(pool_size, name=\"block2_pool\")(se_2)\n",
    "    \n",
    "    conv_5 = Conv2D(256, (3, 3), padding=\"same\" , kernel_initializer='he_normal', name=\"block3_conv1\")(pool_2)\n",
    "    conv_5 = BatchNormalization()(conv_5)\n",
    "    conv_5 = Activation(\"relu\")(conv_5)\n",
    "    conv_6 = Conv2D(256, (3, 3), padding=\"same\" , kernel_initializer='he_normal', name=\"block3_conv2\")(conv_5)\n",
    "    conv_6 = BatchNormalization()(conv_6)\n",
    "    conv_6 = Activation(\"relu\")(conv_6)\n",
    "    conv_7 = Conv2D(256, (3, 3), padding=\"same\" , kernel_initializer='he_normal', name=\"block3_conv3\")(conv_6)\n",
    "    conv_7 = BatchNormalization()(conv_7)\n",
    "    conv_7 = Activation(\"relu\")(conv_7)\n",
    "    se_3 = se_block(conv_7, 2)\n",
    "    \n",
    "    pool_3 = MaxPooling2D(pool_size, name=\"block3_pool\")(se_3)\n",
    "    \n",
    "    #bottleneck\n",
    "    conv_11 = Conv2D(256, (3, 3), padding=\"same\", kernel_initializer='he_normal', name=\"block5_conv1\")(pool_3)\n",
    "    conv_11 = BatchNormalization()(conv_11)\n",
    "    conv_11 = Activation(\"relu\")(conv_11)\n",
    "    conv_12 = Conv2D(256, (3, 3), padding=\"same\" , kernel_initializer='he_normal',  name=\"block5_conv2\")(conv_11)\n",
    "    conv_12 = BatchNormalization()(conv_12)\n",
    "    conv_12 = Activation(\"relu\")(conv_12)\n",
    "    conv_13 = Conv2D(256, (3, 3), padding=\"same\" , kernel_initializer='he_normal',  name=\"block5_conv3\")(conv_12)\n",
    "    conv_13 = BatchNormalization()(conv_13)\n",
    "    conv_13 = Activation(\"relu\")(conv_13)\n",
    "    se_4 = se_block(conv_13, 2)\n",
    "    sam = spatial_attention(se_4)\n",
    "       \n",
    "    #decoder\n",
    "    unpool_1 = UpSampling2D((pool_size))(sam)\n",
    "    \n",
    "    conv_14 = Conv2D(256, (3, 3), padding=\"same\", kernel_initializer='he_normal')(unpool_1)\n",
    "    conv_14 = BatchNormalization()(conv_14)\n",
    "    conv_14 = Activation(\"relu\")(conv_14)\n",
    "    conv_15 = Conv2D(256, (3, 3), padding=\"same\", kernel_initializer='he_normal')(conv_14)\n",
    "    conv_15 = BatchNormalization()(conv_15)\n",
    "    conv_15 = Activation(\"relu\")(conv_15)\n",
    "    conv_16 = Conv2D(128, (3, 3), padding=\"same\", kernel_initializer='he_normal')(conv_15)\n",
    "    conv_16 = BatchNormalization()(conv_16)\n",
    "    conv_16 = Activation(\"relu\")(conv_16)\n",
    "    \n",
    "    unpool_2 = UpSampling2D((pool_size))(conv_16)\n",
    "    \n",
    "    conv_17 = Conv2D(128, (3, 3), padding=\"same\", kernel_initializer='he_normal')(unpool_2)\n",
    "    conv_17 = BatchNormalization()(conv_17)\n",
    "    conv_17 = Activation(\"relu\")(conv_17)\n",
    "    conv_18 = Conv2D(64, (3, 3), padding=\"same\", kernel_initializer='he_normal')(conv_17)\n",
    "    conv_18 = BatchNormalization()(conv_18)\n",
    "    conv_18 = Activation(\"relu\")(conv_18)\n",
    "    \n",
    "    unpool_3 = UpSampling2D((pool_size))(conv_18)\n",
    "    \n",
    "    #concatenation (unpool_4, conv_2)\n",
    "    merge = concatenate([unpool_3,se_1], axis = -1)\n",
    "    \n",
    "    conv_19 = Conv2D(64, (1, 1), padding=\"same\", kernel_initializer='he_normal')(merge)\n",
    "    conv_19 = BatchNormalization()(conv_19)\n",
    "    conv_19 = Activation(\"relu\")(conv_19)\n",
    "    \n",
    "    conv_20 = Conv2D(64, (3, 3), padding=\"same\", kernel_initializer='he_normal')(conv_19)\n",
    "    conv_20 = BatchNormalization()(conv_20)\n",
    "    conv_20 = Activation(\"relu\")(conv_20)\n",
    "    \n",
    "    conv_21 = Conv2D(n_classes, (1, 1), padding=\"same\", kernel_initializer='he_normal')(conv_20)\n",
    "    conv_21 = BatchNormalization()(conv_21)\n",
    "\n",
    "    outputs = Activation(\"softmax\")(conv_21)\n",
    "         \n",
    "    model = Model(inputs=[inputs], outputs=[outputs])\n",
    "    \n",
    "    return model"
   ]
  },
  {
   "cell_type": "code",
   "execution_count": 11,
   "id": "46b3afd5",
   "metadata": {},
   "outputs": [],
   "source": [
    "IMG_HEIGHT = X.shape[1]\n",
    "IMG_WIDTH  = X.shape[2]\n",
    "IMG_CHANNELS = X.shape[3]"
   ]
  },
  {
   "cell_type": "code",
   "execution_count": 20,
   "id": "60b21fbf",
   "metadata": {},
   "outputs": [],
   "source": [
    "from keras.optimizers import Adam\n",
    "\n",
    "def get_model(learning_rate=0.001):\n",
    "    # Create the model\n",
    "    model = usegnet_model_base(n_classes=n_classes, IMG_HEIGHT=IMG_HEIGHT, IMG_WIDTH=IMG_WIDTH, IMG_CHANNELS=IMG_CHANNELS)\n",
    "    \n",
    "    # Compile the model with custom optimizer\n",
    "    optimizer = Adam(learning_rate=learning_rate)\n",
    "    model.compile(optimizer=optimizer, loss='categorical_crossentropy', metrics=['accuracy', sm.metrics.iou_score])\n",
    "    \n",
    "    return model"
   ]
  },
  {
   "cell_type": "code",
   "execution_count": 21,
   "id": "553877bb",
   "metadata": {},
   "outputs": [],
   "source": [
    "model = get_model(learning_rate=0.0001)\n",
    "# model.summary()"
   ]
  },
  {
   "cell_type": "code",
   "execution_count": 22,
   "id": "54618593",
   "metadata": {},
   "outputs": [
    {
     "name": "stdout",
     "output_type": "stream",
     "text": [
      "Epoch 1/10\n",
      "\u001b[1m468/468\u001b[0m \u001b[32m━━━━━━━━━━━━━━━━━━━━\u001b[0m\u001b[37m\u001b[0m \u001b[1m1303s\u001b[0m 3s/step - accuracy: 0.5174 - iou_score: 0.0838 - loss: 1.6549 - val_accuracy: 0.6642 - val_iou_score: 0.1054 - val_loss: 1.3165\n",
      "Epoch 2/10\n",
      "\u001b[1m468/468\u001b[0m \u001b[32m━━━━━━━━━━━━━━━━━━━━\u001b[0m\u001b[37m\u001b[0m \u001b[1m1289s\u001b[0m 3s/step - accuracy: 0.6663 - iou_score: 0.1150 - loss: 1.2953 - val_accuracy: 0.6791 - val_iou_score: 0.1181 - val_loss: 1.2312\n",
      "Epoch 3/10\n",
      "\u001b[1m468/468\u001b[0m \u001b[32m━━━━━━━━━━━━━━━━━━━━\u001b[0m\u001b[37m\u001b[0m \u001b[1m1289s\u001b[0m 3s/step - accuracy: 0.6978 - iou_score: 0.1292 - loss: 1.1884 - val_accuracy: 0.6779 - val_iou_score: 0.1239 - val_loss: 1.1770\n",
      "Epoch 4/10\n",
      "\u001b[1m468/468\u001b[0m \u001b[32m━━━━━━━━━━━━━━━━━━━━\u001b[0m\u001b[37m\u001b[0m \u001b[1m1289s\u001b[0m 3s/step - accuracy: 0.7176 - iou_score: 0.1417 - loss: 1.1060 - val_accuracy: 0.7006 - val_iou_score: 0.1360 - val_loss: 1.0913\n",
      "Epoch 5/10\n",
      "\u001b[1m468/468\u001b[0m \u001b[32m━━━━━━━━━━━━━━━━━━━━\u001b[0m\u001b[37m\u001b[0m \u001b[1m1289s\u001b[0m 3s/step - accuracy: 0.7336 - iou_score: 0.1536 - loss: 1.0338 - val_accuracy: 0.7069 - val_iou_score: 0.1480 - val_loss: 1.0658\n",
      "Epoch 6/10\n",
      "\u001b[1m468/468\u001b[0m \u001b[32m━━━━━━━━━━━━━━━━━━━━\u001b[0m\u001b[37m\u001b[0m \u001b[1m1290s\u001b[0m 3s/step - accuracy: 0.7471 - iou_score: 0.1651 - loss: 0.9697 - val_accuracy: 0.6776 - val_iou_score: 0.1537 - val_loss: 1.1171\n",
      "Epoch 7/10\n",
      "\u001b[1m468/468\u001b[0m \u001b[32m━━━━━━━━━━━━━━━━━━━━\u001b[0m\u001b[37m\u001b[0m \u001b[1m1290s\u001b[0m 3s/step - accuracy: 0.7612 - iou_score: 0.1772 - loss: 0.9063 - val_accuracy: 0.7231 - val_iou_score: 0.1704 - val_loss: 0.9729\n",
      "Epoch 8/10\n",
      "\u001b[1m468/468\u001b[0m \u001b[32m━━━━━━━━━━━━━━━━━━━━\u001b[0m\u001b[37m\u001b[0m \u001b[1m1291s\u001b[0m 3s/step - accuracy: 0.7731 - iou_score: 0.1888 - loss: 0.8504 - val_accuracy: 0.6655 - val_iou_score: 0.1684 - val_loss: 1.1219\n",
      "Epoch 9/10\n",
      "\u001b[1m468/468\u001b[0m \u001b[32m━━━━━━━━━━━━━━━━━━━━\u001b[0m\u001b[37m\u001b[0m \u001b[1m1290s\u001b[0m 3s/step - accuracy: 0.7826 - iou_score: 0.1998 - loss: 0.8017 - val_accuracy: 0.7424 - val_iou_score: 0.1918 - val_loss: 0.8866\n",
      "Epoch 10/10\n",
      "\u001b[1m468/468\u001b[0m \u001b[32m━━━━━━━━━━━━━━━━━━━━\u001b[0m\u001b[37m\u001b[0m \u001b[1m1290s\u001b[0m 3s/step - accuracy: 0.7905 - iou_score: 0.2102 - loss: 0.7577 - val_accuracy: 0.6971 - val_iou_score: 0.1835 - val_loss: 0.9809\n",
      "Training time: 12911.4243 seconds\n"
     ]
    }
   ],
   "source": [
    "start_time = time.time()\n",
    "history = model.fit(X, y_cat, \n",
    "                    batch_size = 64, \n",
    "                    verbose=1, \n",
    "                    epochs=10, \n",
    "                    validation_data=(X_val, y_val_cat), \n",
    "                    shuffle=False)\n",
    "end_time = time.time()\n",
    "training_time = end_time - start_time\n",
    "print(f\"Training time: {training_time:.4f} seconds\")"
   ]
  },
  {
   "cell_type": "code",
   "execution_count": 23,
   "id": "f818e01c",
   "metadata": {},
   "outputs": [
    {
     "data": {
      "image/png": "[encoded data removed]",
      "text/plain": [
       "<Figure size 640x480 with 1 Axes>"
      ]
     },
     "metadata": {},
     "output_type": "display_data"
    }
   ],
   "source": [
    "###\n",
    "#plot the training and validation accuracy and loss at each epoch\n",
    "loss = history.history['loss']\n",
    "val_loss = history.history['val_loss']\n",
    "epochs = range(1, len(loss) + 1)\n",
    "plt.plot(epochs, loss, 'y', label='Training loss')\n",
    "plt.plot(epochs, val_loss, 'r', label='Validation loss')\n",
    "plt.title('Training and validation loss')\n",
    "plt.xlabel('Epochs')\n",
    "plt.ylabel('Loss')\n",
    "plt.legend()\n",
    "plt.show()"
   ]
  },
  {
   "cell_type": "code",
   "execution_count": 24,
   "id": "f1a8781f",
   "metadata": {},
   "outputs": [
    {
     "data": {
      "image/png": "[encoded data removed]",
      "text/plain": [
       "<Figure size 640x480 with 1 Axes>"
      ]
     },
     "metadata": {},
     "output_type": "display_data"
    }
   ],
   "source": [
    "acc = history.history['accuracy']\n",
    "val_acc = history.history['val_accuracy']\n",
    "\n",
    "plt.plot(epochs, acc, 'y', label='Training Accuracy')\n",
    "plt.plot(epochs, val_acc, 'r', label='Validation Accuracy')\n",
    "plt.title('Training and validation Accuracy')\n",
    "plt.xlabel('Epochs')\n",
    "plt.ylabel('Accuracy')\n",
    "plt.legend()\n",
    "plt.show()"
   ]
  },
  {
   "cell_type": "code",
   "execution_count": 25,
   "id": "39dda98a",
   "metadata": {},
   "outputs": [],
   "source": [
    "Xtest, ytest = sam_test_img, sam_test_mask"
   ]
  },
  {
   "cell_type": "code",
   "execution_count": 26,
   "id": "ed2952b4",
   "metadata": {},
   "outputs": [],
   "source": [
    "Ytest_cat = to_categorical(ytest, num_classes=n_classes)"
   ]
  },
  {
   "cell_type": "code",
   "execution_count": null,
   "id": "1cafc6c9",
   "metadata": {},
   "outputs": [],
   "source": [
    "# Evaluasi model\n",
    "loss, accuracy, iou_score = model.evaluate(Xtest, Ytest_cat)\n",
    "print(accuracy)\n",
    "print(iou_score)"
   ]
  },
  {
   "cell_type": "code",
   "execution_count": 27,
   "id": "fc8d0128",
   "metadata": {},
   "outputs": [
    {
     "name": "stdout",
     "output_type": "stream",
     "text": [
      "\u001b[1m201/201\u001b[0m \u001b[32m━━━━━━━━━━━━━━━━━━━━\u001b[0m\u001b[37m\u001b[0m \u001b[1m62s\u001b[0m 305ms/step\n"
     ]
    }
   ],
   "source": [
    "# Predict and evaluate\n",
    "y_pred = model.predict(Xtest)\n",
    "y_pred_classes = np.argmax(y_pred, axis=-1)\n",
    "y_true_classes = ytest"
   ]
  },
  {
   "cell_type": "code",
   "execution_count": 28,
   "id": "c931a2df",
   "metadata": {},
   "outputs": [],
   "source": [
    "# Flatten the arrays\n",
    "y_pred_flat = y_pred_classes.flatten()\n",
    "y_true_flat = y_true_classes.flatten()"
   ]
  },
  {
   "cell_type": "code",
   "execution_count": 29,
   "id": "7412e108",
   "metadata": {},
   "outputs": [
    {
     "name": "stderr",
     "output_type": "stream",
     "text": [
      "C:\\Users\\kholid\\anaconda3\\envs\\tir\\Lib\\site-packages\\sklearn\\metrics\\_classification.py:1517: UndefinedMetricWarning: Precision is ill-defined and being set to 0.0 in labels with no predicted samples. Use `zero_division` parameter to control this behavior.\n",
      "  _warn_prf(average, modifier, f\"{metric.capitalize()} is\", len(result))\n",
      "C:\\Users\\kholid\\anaconda3\\envs\\tir\\Lib\\site-packages\\sklearn\\metrics\\_classification.py:1517: UndefinedMetricWarning: Precision is ill-defined and being set to 0.0 in labels with no predicted samples. Use `zero_division` parameter to control this behavior.\n",
      "  _warn_prf(average, modifier, f\"{metric.capitalize()} is\", len(result))\n"
     ]
    },
    {
     "name": "stdout",
     "output_type": "stream",
     "text": [
      "              precision    recall  f1-score   support\n",
      "\n",
      "     Class 0       0.00      0.00      0.00         8\n",
      "     Class 1       0.40      0.13      0.19    293759\n",
      "     Class 2       0.40      0.19      0.26    324962\n",
      "     Class 3       0.35      0.50      0.41   1487533\n",
      "     Class 4       0.57      0.57      0.57   2862958\n",
      "     Class 5       0.59      0.77      0.67   7413470\n",
      "     Class 6       0.96      0.76      0.85  12772966\n",
      "     Class 8       0.41      0.46      0.43   1120184\n",
      "\n",
      "    accuracy                           0.70  26275840\n",
      "   macro avg       0.46      0.42      0.42  26275840\n",
      "weighted avg       0.74      0.70      0.71  26275840\n",
      "\n"
     ]
    },
    {
     "name": "stderr",
     "output_type": "stream",
     "text": [
      "C:\\Users\\kholid\\anaconda3\\envs\\tir\\Lib\\site-packages\\sklearn\\metrics\\_classification.py:1517: UndefinedMetricWarning: Precision is ill-defined and being set to 0.0 in labels with no predicted samples. Use `zero_division` parameter to control this behavior.\n",
      "  _warn_prf(average, modifier, f\"{metric.capitalize()} is\", len(result))\n"
     ]
    }
   ],
   "source": [
    "# Generate the classification report\n",
    "from sklearn.metrics import classification_report\n",
    "report = classification_report(y_true_flat, y_pred_flat, target_names=['Class 0', \n",
    "                                                                       'Class 1', \n",
    "                                                                       'Class 2', \n",
    "                                                                       'Class 3', \n",
    "                                                                       'Class 4', \n",
    "                                                                       'Class 5', \n",
    "                                                                       'Class 6', \n",
    "                                                                       'Class 8'])\n",
    "print(report)"
   ]
  },
  {
   "cell_type": "code",
   "execution_count": 30,
   "id": "73d29722",
   "metadata": {},
   "outputs": [
    {
     "name": "stdout",
     "output_type": "stream",
     "text": [
      "Mean IoU = 0.30230686\n"
     ]
    }
   ],
   "source": [
    "#IOU\n",
    "\n",
    "n_classes = 8\n",
    "IOU_keras = MeanIoU(num_classes=n_classes)  \n",
    "IOU_keras.update_state(ytest, y_pred_classes)\n",
    "print(\"Mean IoU =\", IOU_keras.result().numpy())"
   ]
  }
 ],
 "metadata": {
  "kernelspec": {
   "display_name": "Python 3 (ipykernel)",
   "language": "python",
   "name": "python3"
  },
  "language_info": {
   "codemirror_mode": {
    "name": "ipython",
    "version": 3
   },
   "file_extension": ".py",
   "mimetype": "text/x-python",
   "name": "python",
   "nbconvert_exporter": "python",
   "pygments_lexer": "ipython3",
   "version": "3.11.9"
  }
 },
 "nbformat": 4,
 "nbformat_minor": 5
}
