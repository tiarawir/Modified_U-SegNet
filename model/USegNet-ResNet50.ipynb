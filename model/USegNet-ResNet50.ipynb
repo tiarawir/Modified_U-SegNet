{
 "cells": [
  {
   "cell_type": "code",
   "execution_count": 1,
   "id": "50259dfc-b2b3-440f-a7c7-45e5aecbb3ec",
   "metadata": {},
   "outputs": [],
   "source": [
    "import numpy as np\n",
    "from matplotlib import pyplot as plt\n",
    "import os\n",
    "os.environ[\"SM_FRAMEWORK\"] = \"tf.keras\"\n",
    "import sys\n",
    "import time\n",
    "\n",
    "from sklearn.preprocessing import LabelEncoder\n",
    "from sklearn.utils.class_weight import compute_class_weight\n",
    "from keras.utils import to_categorical\n",
    "\n",
    "import tensorflow as tf\n",
    "from tensorflow import keras\n",
    "from tensorflow.keras.applications import VGG16\n",
    "from tensorflow.keras.metrics import MeanIoU\n",
    "from keras.layers import Input, Conv2D, MaxPooling2D, UpSampling2D, concatenate, Conv2DTranspose, BatchNormalization, Dropout, Lambda, Activation\n",
    "from keras import backend as K\n",
    "from keras.layers import Layer\n",
    "from tensorflow.keras import layers, Model, Input\n",
    "from keras.optimizers import Adam"
   ]
  },
  {
   "cell_type": "code",
   "execution_count": 2,
   "id": "e987f917-0bcc-4747-b0e8-10bcc1dfc489",
   "metadata": {},
   "outputs": [],
   "source": [
    "'''Load data'''\n",
    "sys.path.extend(['..'])\n",
    "from data.adv_data_generator import ImageLoader\n",
    "\n",
    "file = [\"train\"]\n",
    "type_mod = [\"img\",\"mask\",\"aug\"]\n",
    "dataset_aug = [[],[],[]]\n",
    "num = 0\n",
    "for i in file:\n",
    "    for j in type_mod:\n",
    "        loader = ImageLoader(i, j)\n",
    "        dataset_aug[num] = loader.loadAug()\n",
    "        num += 1\n",
    "\n",
    "file = [\"test\",\"val\"]\n",
    "type_ori = [\"images\",\"masks\"]\n",
    "dataset = [[],[],[],[]]\n",
    "num = 0\n",
    "for i in file:\n",
    "    for j in type_ori:\n",
    "        loader = ImageLoader(i, j)\n",
    "        dataset[num] = loader.loadData()\n",
    "        num += 1"
   ]
  },
  {
   "cell_type": "code",
   "execution_count": 3,
   "id": "ae339b46-7690-4f25-81d2-b2d0c48f0914",
   "metadata": {},
   "outputs": [],
   "source": [
    "'''Define dataset'''\n",
    "train_img = dataset_aug[0]\n",
    "train_mask = dataset_aug[1]\n",
    "train_aug = dataset_aug[2]\n",
    "\n",
    "test_img = dataset[0]\n",
    "test_mask = dataset[1]\n",
    "val_img = dataset[2]\n",
    "val_mask = dataset[3]"
   ]
  },
  {
   "cell_type": "code",
   "execution_count": 4,
   "id": "a289aa3d-9e2e-4350-ae93-b7e195702acd",
   "metadata": {},
   "outputs": [
    {
     "name": "stdout",
     "output_type": "stream",
     "text": [
      "(6415, 64, 64)\n",
      "(6415, 64, 64)\n",
      "[0 1 2 3 4 5 6 7]\n"
     ]
    }
   ],
   "source": [
    "import random\n",
    "\n",
    "'''\n",
    "(1) Set the seed\n",
    "(2) Generate a random permutation of indices\n",
    "(3) Use the same random indices for sampling both arrays\n",
    "'''\n",
    "\n",
    "def sampling(img, mask, seed, percentage=0.2):\n",
    "    sample_size = int(len(img) * percentage)\n",
    "    random.seed(seed)\n",
    "    random_indices = random.sample(range(len(img)), sample_size)\n",
    "    sample_img = img[random_indices]\n",
    "    sample_mask = mask[random_indices]\n",
    "\n",
    "    return sample_img, sample_mask\n",
    "\n",
    "sam_val_img, sam_val_mask = sampling(val_img, val_mask, 4)\n",
    "sam_test_img, sam_test_mask = sampling(test_img, test_mask, 7)\n",
    "\n",
    "print(sam_val_mask.shape)\n",
    "print(sam_test_mask.shape)\n",
    "print(np.unique(sam_test_mask))"
   ]
  },
  {
   "cell_type": "code",
   "execution_count": 5,
   "id": "4f7bfec9-9ae5-4ddf-bc62-3313367c6b9d",
   "metadata": {},
   "outputs": [],
   "source": [
    "'''Define variable to run the model'''\n",
    "# X = np.concatenate((mod_train_img, mod_train_aug), axis=0)\n",
    "# y = np.concatenate((mod_train_mask, mod_train_mask), axis=0)\n",
    "X = train_img\n",
    "y = train_mask\n",
    "X_val = sam_val_img\n",
    "y_val = sam_val_mask"
   ]
  },
  {
   "cell_type": "code",
   "execution_count": 6,
   "id": "78f5c1f9-2855-4b4f-a142-d43f08d4dab7",
   "metadata": {},
   "outputs": [],
   "source": [
    "n_classes = 8\n",
    "from keras.utils import to_categorical\n",
    "y_cat = to_categorical(y, num_classes=n_classes)\n",
    "y_val_cat = to_categorical(y_val, num_classes=n_classes)"
   ]
  },
  {
   "cell_type": "code",
   "execution_count": 7,
   "id": "55b9db7b-aa4d-4cb4-ae46-8386e4e1e5af",
   "metadata": {},
   "outputs": [],
   "source": [
    "import keras\n",
    "from keras.models import *\n",
    "from keras.layers import *\n",
    "from keras import layers\n",
    "import tensorflow as tf\n",
    "from keras.layers import Input, Conv2D, MaxPooling2D, UpSampling2D, concatenate, Conv2DTranspose, BatchNormalization, Dropout, Lambda, Activation\n",
    "\n",
    "# Source:\n",
    "# https://github.com/fchollet/deep-learning-models/blob/master/resnet50.py\n",
    "\n",
    "\n",
    "IMAGE_ORDERING = 'channels_last'\n",
    "\n",
    "if IMAGE_ORDERING == 'channels_first':\n",
    "    pretrained_url = \"https://github.com/fchollet/deep-learning-models/\" \\\n",
    "                     \"releases/download/v0.2/\" \\\n",
    "                     \"resnet50_weights_th_dim_ordering_th_kernels_notop.h5\"\n",
    "elif IMAGE_ORDERING == 'channels_last':\n",
    "    pretrained_url = \"https://github.com/fchollet/deep-learning-models/\" \\\n",
    "                     \"releases/download/v0.2/\" \\\n",
    "                     \"resnet50_weights_tf_dim_ordering_tf_kernels_notop.h5\"\n",
    "\n",
    "\n",
    "def one_side_pad(x):\n",
    "    x = ZeroPadding2D((1, 1), data_format=IMAGE_ORDERING)(x)\n",
    "    if IMAGE_ORDERING == 'channels_first':\n",
    "        x = Lambda(lambda x: x[:, :, :-1, :-1])(x)\n",
    "    elif IMAGE_ORDERING == 'channels_last':\n",
    "        x = Lambda(lambda x: x[:, :-1, :-1, :])(x)\n",
    "    return x\n",
    "\n",
    "\n",
    "def identity_block(input_tensor, kernel_size, filters, stage, block):\n",
    "    \"\"\"The identity block is the block that has no conv layer at shortcut.\n",
    "    # Arguments\n",
    "        input_tensor: input tensor\n",
    "        kernel_size: defualt 3, the kernel size of middle conv layer at\n",
    "                     main path\n",
    "        filters: list of integers, the filterss of 3 conv layer at main path\n",
    "        stage: integer, current stage label, used for generating layer names\n",
    "        block: 'a','b'..., current block label, used for generating layer names\n",
    "    # Returns\n",
    "        Output tensor for the block.\n",
    "    \"\"\"\n",
    "    filters1, filters2, filters3 = filters\n",
    "\n",
    "    if IMAGE_ORDERING == 'channels_last':\n",
    "        bn_axis = 3\n",
    "    else:\n",
    "        bn_axis = 1\n",
    "\n",
    "    conv_name_base = 'res' + str(stage) + block + '_branch'\n",
    "    bn_name_base = 'bn' + str(stage) + block + '_branch'\n",
    "\n",
    "    x = Conv2D(filters1, (1, 1), data_format=IMAGE_ORDERING,\n",
    "               name=conv_name_base + '2a')(input_tensor)\n",
    "    x = BatchNormalization(axis=bn_axis, name=bn_name_base + '2a')(x)\n",
    "    x = Activation('relu')(x)\n",
    "\n",
    "    x = Conv2D(filters2, kernel_size, data_format=IMAGE_ORDERING,\n",
    "               padding='same', name=conv_name_base + '2b')(x)\n",
    "    x = BatchNormalization(axis=bn_axis, name=bn_name_base + '2b')(x)\n",
    "    x = Activation('relu')(x)\n",
    "\n",
    "    x = Conv2D(filters3, (1, 1), data_format=IMAGE_ORDERING,\n",
    "               name=conv_name_base + '2c')(x)\n",
    "    x = BatchNormalization(axis=bn_axis, name=bn_name_base + '2c')(x)\n",
    "\n",
    "    x = layers.add([x, input_tensor])\n",
    "    x = Activation('relu')(x)\n",
    "    return x\n",
    "\n",
    "\n",
    "def conv_block(input_tensor, kernel_size, filters, stage, block,\n",
    "               strides=(2, 2)):\n",
    "    \"\"\"conv_block is the block that has a conv layer at shortcut\n",
    "    # Arguments\n",
    "        input_tensor: input tensor\n",
    "        kernel_size: defualt 3, the kernel size of middle conv layer at\n",
    "                     main path\n",
    "        filters: list of integers, the filterss of 3 conv layer at main path\n",
    "        stage: integer, current stage label, used for generating layer names\n",
    "        block: 'a','b'..., current block label, used for generating layer names\n",
    "    # Returns\n",
    "        Output tensor for the block.\n",
    "    Note that from stage 3, the first conv layer at main path is with\n",
    "    strides=(2,2) and the shortcut should have strides=(2,2) as well\n",
    "    \"\"\"\n",
    "    filters1, filters2, filters3 = filters\n",
    "\n",
    "    if IMAGE_ORDERING == 'channels_last':\n",
    "        bn_axis = 3\n",
    "    else:\n",
    "        bn_axis = 1\n",
    "\n",
    "    conv_name_base = 'res' + str(stage) + block + '_branch'\n",
    "    bn_name_base = 'bn' + str(stage) + block + '_branch'\n",
    "\n",
    "    x = Conv2D(filters1, (1, 1), data_format=IMAGE_ORDERING, strides=strides,\n",
    "               name=conv_name_base + '2a')(input_tensor)\n",
    "    x = BatchNormalization(axis=bn_axis, name=bn_name_base + '2a')(x)\n",
    "    x = Activation('relu')(x)\n",
    "\n",
    "    x = Conv2D(filters2, kernel_size, data_format=IMAGE_ORDERING,\n",
    "               padding='same', name=conv_name_base + '2b')(x)\n",
    "    x = BatchNormalization(axis=bn_axis, name=bn_name_base + '2b')(x)\n",
    "    x = Activation('relu')(x)\n",
    "\n",
    "    x = Conv2D(filters3, (1, 1), data_format=IMAGE_ORDERING,\n",
    "               name=conv_name_base + '2c')(x)\n",
    "    x = BatchNormalization(axis=bn_axis, name=bn_name_base + '2c')(x)\n",
    "\n",
    "    shortcut = Conv2D(filters3, (1, 1), data_format=IMAGE_ORDERING,\n",
    "                      strides=strides, name=conv_name_base + '1')(input_tensor)\n",
    "    shortcut = BatchNormalization(\n",
    "        axis=bn_axis, name=bn_name_base + '1')(shortcut)\n",
    "\n",
    "    x = layers.add([x, shortcut])\n",
    "    x = Activation('relu')(x)\n",
    "    return x\n",
    "\n",
    "\n",
    "def get_resnet50_encoder(input_height=224,  input_width=224,\n",
    "                         pretrained='imagenet',\n",
    "                         include_top=True, weights='imagenet',\n",
    "                         input_tensor=None, input_shape=None,\n",
    "                         pooling=None,\n",
    "                         classes=1000, channels=3):\n",
    "\n",
    "    assert input_height % 32 == 0\n",
    "    assert input_width % 32 == 0\n",
    "\n",
    "    if IMAGE_ORDERING == 'channels_first':\n",
    "        img_input = Input(shape=(channels, input_height, input_width))\n",
    "    elif IMAGE_ORDERING == 'channels_last':\n",
    "        img_input = Input(shape=(input_height, input_width, channels))\n",
    "\n",
    "    if IMAGE_ORDERING == 'channels_last':\n",
    "        bn_axis = 3\n",
    "    else:\n",
    "        bn_axis = 1\n",
    "\n",
    "    x = ZeroPadding2D((3, 3), data_format=IMAGE_ORDERING)(img_input)\n",
    "    x = Conv2D(64, (7, 7), data_format=IMAGE_ORDERING,\n",
    "               strides=(2, 2), name='conv1')(x)\n",
    "    f1 = x\n",
    "\n",
    "    x = BatchNormalization(axis=bn_axis, name='bn_conv1')(x)\n",
    "    x = Activation('relu')(x)\n",
    "    x = MaxPooling2D((3, 3), data_format=IMAGE_ORDERING, strides=(2, 2))(x)\n",
    "\n",
    "    x = conv_block(x, 3, [64, 64, 256], stage=2, block='a', strides=(1, 1))\n",
    "    x = identity_block(x, 3, [64, 64, 256], stage=2, block='b')\n",
    "    x = identity_block(x, 3, [64, 64, 256], stage=2, block='c')\n",
    "    f2 = one_side_pad(x)\n",
    "\n",
    "    x = conv_block(x, 3, [128, 128, 512], stage=3, block='a')\n",
    "    x = identity_block(x, 3, [128, 128, 512], stage=3, block='b')\n",
    "    x = identity_block(x, 3, [128, 128, 512], stage=3, block='c')\n",
    "    x = identity_block(x, 3, [128, 128, 512], stage=3, block='d')\n",
    "    f3 = x\n",
    "\n",
    "    x = conv_block(x, 3, [256, 256, 1024], stage=4, block='a')\n",
    "    x = identity_block(x, 3, [256, 256, 1024], stage=4, block='b')\n",
    "    x = identity_block(x, 3, [256, 256, 1024], stage=4, block='c')\n",
    "    x = identity_block(x, 3, [256, 256, 1024], stage=4, block='d')\n",
    "    x = identity_block(x, 3, [256, 256, 1024], stage=4, block='e')\n",
    "    x = identity_block(x, 3, [256, 256, 1024], stage=4, block='f')\n",
    "    f4 = x\n",
    "\n",
    "    x = conv_block(x, 3, [512, 512, 2048], stage=5, block='a')\n",
    "    x = identity_block(x, 3, [512, 512, 2048], stage=5, block='b')\n",
    "    x = identity_block(x, 3, [512, 512, 2048], stage=5, block='c')\n",
    "    f5 = x\n",
    "\n",
    "    x = AveragePooling2D(\n",
    "        (7, 7), data_format=IMAGE_ORDERING, name='avg_pool')(x)\n",
    "    # f6 = x\n",
    "\n",
    "    if pretrained == 'imagenet':\n",
    "        weights_path = tf.keras.utils.get_file(\n",
    "            pretrained_url.split(\"/\")[-1], pretrained_url)\n",
    "        Model(img_input, x).load_weights(weights_path, by_name=True, skip_mismatch=True)\n",
    "\n",
    "    return img_input, [f1, f2, f3, f4, f5]"
   ]
  },
  {
   "cell_type": "code",
   "execution_count": 8,
   "id": "2375a8a3-e9ad-4cc0-84a6-a4b8a347cf2b",
   "metadata": {},
   "outputs": [],
   "source": [
    "activation = 'relu'\n",
    "def Conv2DBlock(input_tensor, filters, kernel_size):\n",
    "    x = layers.Conv2D(filters, kernel_size, padding='same')(input_tensor)\n",
    "    x = layers.BatchNormalization()(x)\n",
    "    x = layers.Activation(activation)(x)\n",
    "    return x\n",
    "    \n",
    "def usegnet_resnet50(n_classes, encoder, l1_skip_conn=True, input_height=64,\n",
    "          input_width=64, channels=3):\n",
    "\n",
    "    img_input, levels = encoder(\n",
    "        input_height=input_height, input_width=input_width, channels=channels)\n",
    "    [f1, f2, f3, f4, f5] = levels\n",
    "\n",
    "    o = f4\n",
    "\n",
    "    o = Conv2DBlock(o, 512, 3) #4,4,512\n",
    "\n",
    "    o = (UpSampling2D((2, 2), data_format=IMAGE_ORDERING))(o) #8,8,512\n",
    "    \n",
    "    o = Conv2DBlock(o, 512, 3)\n",
    "    o = Conv2DBlock(o, 512, 3)\n",
    "    o = Conv2DBlock(o, 256, 3)\n",
    "\n",
    "    o = (UpSampling2D((2, 2), data_format=IMAGE_ORDERING))(o) #16,16,256\n",
    "    \n",
    "    o = Conv2DBlock(o, 256, 3)\n",
    "    o = Conv2DBlock(o, 256, 3)\n",
    "    o = Conv2DBlock(o, 128, 3)\n",
    "\n",
    "    o = (UpSampling2D((2, 2), data_format=IMAGE_ORDERING))(o) #32,32,128\n",
    "\n",
    "    o = Conv2DBlock(o, 128, 3)\n",
    "    o = Conv2DBlock(o, 64, 3)\n",
    "\n",
    "    o = (UpSampling2D((2, 2), data_format=IMAGE_ORDERING))(o) #64,64,64\n",
    "    o = (concatenate([o, img_input], axis=-1))\n",
    "    o = (Conv2D(64, (3, 3), padding='same' , activation='relu', data_format=IMAGE_ORDERING))(o)\n",
    "    o = (BatchNormalization())(o)\n",
    "\n",
    "    o = Conv2D(n_classes, (3, 3), padding='same', data_format=IMAGE_ORDERING)(o)\n",
    "\n",
    "    outputs = Activation(\"softmax\")(o)\n",
    "         \n",
    "    model = Model(inputs=[img_input], outputs=[outputs])\n",
    "\n",
    "    return model"
   ]
  },
  {
   "cell_type": "code",
   "execution_count": 9,
   "id": "48731775-c080-4222-be44-fc71c332d53d",
   "metadata": {},
   "outputs": [
    {
     "name": "stdout",
     "output_type": "stream",
     "text": [
      "WARNING:tensorflow:From C:\\Users\\kholid\\anaconda3\\envs\\tir\\Lib\\site-packages\\keras\\src\\backend\\tensorflow\\core.py:184: The name tf.placeholder is deprecated. Please use tf.compat.v1.placeholder instead.\n",
      "\n"
     ]
    }
   ],
   "source": [
    "model = usegnet_resnet50(8, get_resnet50_encoder, l1_skip_conn=True, input_height=64,\n",
    "          input_width=64, channels=3)\n",
    "# model.summary()"
   ]
  },
  {
   "cell_type": "code",
   "execution_count": 10,
   "id": "5e7a0697-3a24-4e97-90da-eba39db7c47f",
   "metadata": {},
   "outputs": [
    {
     "name": "stdout",
     "output_type": "stream",
     "text": [
      "Segmentation Models: using `tf.keras` framework.\n"
     ]
    }
   ],
   "source": [
    "from keras.optimizers import Adam\n",
    "import segmentation_models as sm\n",
    "\n",
    "optimizer = Adam(learning_rate=0.001)\n",
    "model.compile(optimizer=optimizer, loss=\"categorical_crossentropy\", metrics=['accuracy', sm.metrics.iou_score])"
   ]
  },
  {
   "cell_type": "code",
   "execution_count": 11,
   "id": "b0a81d7c-ffa4-4ec6-b3e2-d9eed73b3907",
   "metadata": {},
   "outputs": [
    {
     "name": "stdout",
     "output_type": "stream",
     "text": [
      "Epoch 1/10\n",
      "\u001b[1m468/468\u001b[0m \u001b[32m━━━━━━━━━━━━━━━━━━━━\u001b[0m\u001b[37m\u001b[0m \u001b[1m1162s\u001b[0m 2s/step - accuracy: 0.6088 - iou_score: 0.1636 - loss: 1.1081 - val_accuracy: 0.5969 - val_iou_score: 0.1883 - val_loss: 0.9808\n",
      "Epoch 2/10\n",
      "\u001b[1m468/468\u001b[0m \u001b[32m━━━━━━━━━━━━━━━━━━━━\u001b[0m\u001b[37m\u001b[0m \u001b[1m1136s\u001b[0m 2s/step - accuracy: 0.7034 - iou_score: 0.2203 - loss: 0.7232 - val_accuracy: 0.6527 - val_iou_score: 0.2124 - val_loss: 0.8439\n",
      "Epoch 3/10\n",
      "\u001b[1m468/468\u001b[0m \u001b[32m━━━━━━━━━━━━━━━━━━━━\u001b[0m\u001b[37m\u001b[0m \u001b[1m1125s\u001b[0m 2s/step - accuracy: 0.7189 - iou_score: 0.2342 - loss: 0.6805 - val_accuracy: 0.6740 - val_iou_score: 0.2258 - val_loss: 0.7745\n",
      "Epoch 4/10\n",
      "\u001b[1m468/468\u001b[0m \u001b[32m━━━━━━━━━━━━━━━━━━━━\u001b[0m\u001b[37m\u001b[0m \u001b[1m1116s\u001b[0m 2s/step - accuracy: 0.7289 - iou_score: 0.2427 - loss: 0.6563 - val_accuracy: 0.6734 - val_iou_score: 0.2269 - val_loss: 0.8050\n",
      "Epoch 5/10\n",
      "\u001b[1m468/468\u001b[0m \u001b[32m━━━━━━━━━━━━━━━━━━━━\u001b[0m\u001b[37m\u001b[0m \u001b[1m1116s\u001b[0m 2s/step - accuracy: 0.7385 - iou_score: 0.2530 - loss: 0.6278 - val_accuracy: 0.5288 - val_iou_score: 0.1892 - val_loss: 1.1527\n",
      "Epoch 6/10\n",
      "\u001b[1m468/468\u001b[0m \u001b[32m━━━━━━━━━━━━━━━━━━━━\u001b[0m\u001b[37m\u001b[0m \u001b[1m1116s\u001b[0m 2s/step - accuracy: 0.7537 - iou_score: 0.2664 - loss: 0.5920 - val_accuracy: 0.6144 - val_iou_score: 0.2155 - val_loss: 0.9069\n",
      "Epoch 7/10\n",
      "\u001b[1m468/468\u001b[0m \u001b[32m━━━━━━━━━━━━━━━━━━━━\u001b[0m\u001b[37m\u001b[0m \u001b[1m1124s\u001b[0m 2s/step - accuracy: 0.7641 - iou_score: 0.2767 - loss: 0.5657 - val_accuracy: 0.6536 - val_iou_score: 0.2372 - val_loss: 0.8372\n",
      "Epoch 8/10\n",
      "\u001b[1m468/468\u001b[0m \u001b[32m━━━━━━━━━━━━━━━━━━━━\u001b[0m\u001b[37m\u001b[0m \u001b[1m1130s\u001b[0m 2s/step - accuracy: 0.7744 - iou_score: 0.2863 - loss: 0.5412 - val_accuracy: 0.4932 - val_iou_score: 0.1804 - val_loss: 1.3295\n",
      "Epoch 9/10\n",
      "\u001b[1m468/468\u001b[0m \u001b[32m━━━━━━━━━━━━━━━━━━━━\u001b[0m\u001b[37m\u001b[0m \u001b[1m1125s\u001b[0m 2s/step - accuracy: 0.7799 - iou_score: 0.2917 - loss: 0.5314 - val_accuracy: 0.4637 - val_iou_score: 0.1670 - val_loss: 1.4800\n",
      "Epoch 10/10\n",
      "\u001b[1m468/468\u001b[0m \u001b[32m━━━━━━━━━━━━━━━━━━━━\u001b[0m\u001b[37m\u001b[0m \u001b[1m1124s\u001b[0m 2s/step - accuracy: 0.7922 - iou_score: 0.3027 - loss: 0.5031 - val_accuracy: 0.4316 - val_iou_score: 0.1451 - val_loss: 2.1236\n",
      "Training time: 11277.1694 seconds\n"
     ]
    }
   ],
   "source": [
    "start_time = time.time()\n",
    "history = model.fit(X, y_cat, \n",
    "                    batch_size = 64, \n",
    "                    verbose=1, \n",
    "                    epochs=10, \n",
    "                    validation_data=(X_val, y_val_cat),\n",
    "                    shuffle=False)\n",
    "end_time = time.time()\n",
    "training_time = end_time - start_time\n",
    "print(f\"Training time: {training_time:.4f} seconds\")"
   ]
  },
  {
   "cell_type": "code",
   "execution_count": 12,
   "id": "5976e3eb-34e2-418c-99ab-88d080a627fe",
   "metadata": {},
   "outputs": [
    {
     "name": "stdout",
     "output_type": "stream",
     "text": [
      "\u001b[1m201/201\u001b[0m \u001b[32m━━━━━━━━━━━━━━━━━━━━\u001b[0m\u001b[37m\u001b[0m \u001b[1m58s\u001b[0m 283ms/step\n"
     ]
    }
   ],
   "source": [
    "X_test, y_test = sam_test_img, sam_test_mask\n",
    "y_test_cat = to_categorical(y_test, num_classes=n_classes)\n",
    "# Predict and evaluate\n",
    "y_pred = model.predict(X_test)\n",
    "y_pred_classes = np.argmax(y_pred, axis=-1)\n",
    "y_true_classes = y_test"
   ]
  },
  {
   "cell_type": "code",
   "execution_count": 13,
   "id": "8f70f1af-2df5-47fd-b8a9-5b0040856290",
   "metadata": {},
   "outputs": [],
   "source": [
    "# Flatten the arrays\n",
    "y_pred_flat = y_pred_classes.flatten()\n",
    "y_true_flat = y_true_classes.flatten()"
   ]
  },
  {
   "cell_type": "code",
   "execution_count": 14,
   "id": "97587c18-f346-44f5-8114-54ca14c54d0d",
   "metadata": {},
   "outputs": [
    {
     "name": "stdout",
     "output_type": "stream",
     "text": [
      "Mean IoU = 0.15664056\n"
     ]
    }
   ],
   "source": [
    "#IOU\n",
    "\n",
    "n_classes = 8\n",
    "IOU_keras = MeanIoU(num_classes=n_classes)  \n",
    "IOU_keras.update_state(y_test, y_pred_classes)\n",
    "print(\"Mean IoU =\", IOU_keras.result().numpy())"
   ]
  },
  {
   "cell_type": "code",
   "execution_count": 15,
   "id": "88f0fe6b-3bf5-4da4-a59c-0921e4ef98c3",
   "metadata": {},
   "outputs": [
    {
     "name": "stderr",
     "output_type": "stream",
     "text": [
      "C:\\Users\\kholid\\anaconda3\\envs\\tir\\Lib\\site-packages\\sklearn\\metrics\\_classification.py:1517: UndefinedMetricWarning: Precision is ill-defined and being set to 0.0 in labels with no predicted samples. Use `zero_division` parameter to control this behavior.\n",
      "  _warn_prf(average, modifier, f\"{metric.capitalize()} is\", len(result))\n",
      "C:\\Users\\kholid\\anaconda3\\envs\\tir\\Lib\\site-packages\\sklearn\\metrics\\_classification.py:1517: UndefinedMetricWarning: Precision is ill-defined and being set to 0.0 in labels with no predicted samples. Use `zero_division` parameter to control this behavior.\n",
      "  _warn_prf(average, modifier, f\"{metric.capitalize()} is\", len(result))\n"
     ]
    },
    {
     "name": "stdout",
     "output_type": "stream",
     "text": [
      "              precision    recall  f1-score   support\n",
      "\n",
      "     Class 0       0.00      0.00      0.00         8\n",
      "     Class 1       0.10      0.09      0.09    293759\n",
      "     Class 2       0.15      0.83      0.25    324962\n",
      "     Class 3       0.16      0.14      0.15   1487533\n",
      "     Class 4       0.23      0.62      0.34   2862958\n",
      "     Class 5       0.32      0.27      0.30   7413470\n",
      "     Class 6       0.82      0.54      0.65  12772966\n",
      "     Class 8       0.33      0.17      0.22   1120184\n",
      "\n",
      "    accuracy                           0.43  26275840\n",
      "   macro avg       0.26      0.33      0.25  26275840\n",
      "weighted avg       0.54      0.43      0.46  26275840\n",
      "\n"
     ]
    },
    {
     "name": "stderr",
     "output_type": "stream",
     "text": [
      "C:\\Users\\kholid\\anaconda3\\envs\\tir\\Lib\\site-packages\\sklearn\\metrics\\_classification.py:1517: UndefinedMetricWarning: Precision is ill-defined and being set to 0.0 in labels with no predicted samples. Use `zero_division` parameter to control this behavior.\n",
      "  _warn_prf(average, modifier, f\"{metric.capitalize()} is\", len(result))\n"
     ]
    }
   ],
   "source": [
    "# Generate the classification report\n",
    "from sklearn.metrics import classification_report\n",
    "report = classification_report(y_true_flat, y_pred_flat, target_names=['Class 0', \n",
    "                                                                       'Class 1', \n",
    "                                                                       'Class 2', \n",
    "                                                                       'Class 3', \n",
    "                                                                       'Class 4', \n",
    "                                                                       'Class 5', \n",
    "                                                                       'Class 6', \n",
    "                                                                       'Class 8'])\n",
    "print(report)"
   ]
  },
  {
   "cell_type": "code",
   "execution_count": 19,
   "id": "08b5ccad-0550-45d4-ba5d-b80fdf851b81",
   "metadata": {},
   "outputs": [
    {
     "data": {
      "text/plain": [
       "(6415, 64, 64)"
      ]
     },
     "execution_count": 19,
     "metadata": {},
     "output_type": "execute_result"
    }
   ],
   "source": [
    "y_test.shape"
   ]
  },
  {
   "cell_type": "code",
   "execution_count": null,
   "id": "759a460e-a17e-477e-84f9-07cc9139110a",
   "metadata": {},
   "outputs": [],
   "source": [
    "idx2rgb={idx:np.array(rgb) for idx, (cl, rgb) in enumerate(cls2rgb.items())} # dic from class index to rgb  color\n",
    "# map the index back to rgb\n",
    "def map_class_to_rgb(p):\n",
    "  return idx2rgb[p[0]]\n",
    "# covert back 32 chhannel mask to original shape (3 channel image)\n",
    "def unadjust_mask(new_mask):\n",
    "  return np.apply_along_axis(map_class_to_rgb, -1, np.expand_dims(np.argmax(new_mask, axis=-1), -1))"
   ]
  },
  {
   "cell_type": "code",
   "execution_count": 20,
   "id": "52db58a6-6d64-439e-be0b-7e2c8c73fe07",
   "metadata": {
    "scrolled": true
   },
   "outputs": [
    {
     "data": {
      "text/plain": [
       "Text(0.5, 1.0, 'Pred Mask')"
      ]
     },
     "execution_count": 20,
     "metadata": {},
     "output_type": "execute_result"
    },
    {
     "data": {
      "image/png": "[encoded data removed]",
      "text/plain": [
       "<Figure size 1000x1000 with 2 Axes>"
      ]
     },
     "metadata": {},
     "output_type": "display_data"
    }
   ],
   "source": [
    "fig, arr = plt.subplots(1, 2, figsize=(10, 10))\n",
    "arr[0].imshow(y_test[0])\n",
    "arr[0].set_title('True Mask')\n",
    "arr[1].imshow(y_pred_classes[0])\n",
    "arr[1].set_title('Pred Mask')"
   ]
  },
  {
   "cell_type": "code",
   "execution_count": 51,
   "id": "0a41d518-e761-490e-b4db-82e8ee689257",
   "metadata": {},
   "outputs": [],
   "source": [
    "original = X_test[0]\n",
    "label = y_test[0]\n",
    "pred = y_pred_classes[0]"
   ]
  },
  {
   "cell_type": "code",
   "execution_count": 46,
   "id": "5fdffd99-68a2-4037-ba1c-1a5396e0d6e7",
   "metadata": {},
   "outputs": [],
   "source": [
    "img1 = (img1 / 8 * 255).astype(np.uint8)\n",
    "img2 = (img2 / 8 * 255).astype(np.uint8)"
   ]
  },
  {
   "cell_type": "code",
   "execution_count": 47,
   "id": "7216b95c-669b-494b-b46f-97fe1162e2d2",
   "metadata": {},
   "outputs": [],
   "source": [
    "_, binary1 = cv2.threshold(img1, 128, 255, cv2.THRESH_BINARY) \n",
    "_, binary2 = cv2.threshold(img2, 128, 255, cv2.THRESH_BINARY)"
   ]
  },
  {
   "cell_type": "code",
   "execution_count": 48,
   "id": "b08f7b78-74af-458c-813b-0557c4f08adb",
   "metadata": {},
   "outputs": [],
   "source": [
    "overlap = cv2.bitwise_and(binary1, binary2)"
   ]
  },
  {
   "cell_type": "code",
   "execution_count": 72,
   "id": "3eaed479-ff52-4d3f-aed2-5aaae7836865",
   "metadata": {},
   "outputs": [
    {
     "data": {
      "text/plain": [
       "(-0.5, 63.5, 63.5, -0.5)"
      ]
     },
     "execution_count": 72,
     "metadata": {},
     "output_type": "execute_result"
    },
    {
     "data": {
      "image/png": "[encoded data removed]",
      "text/plain": [
       "<Figure size 2000x1000 with 4 Axes>"
      ]
     },
     "metadata": {},
     "output_type": "display_data"
    }
   ],
   "source": [
    "from matplotlib.colors import ListedColormap\n",
    "# Figure Size\n",
    "plt.figure(figsize=(20,10))\n",
    "colors = [(128, 128, 0), \n",
    "(64, 192, 0 ), \n",
    "(0, 128, 64), \n",
    "(64, 0, 128),\n",
    "(192, 0, 128),\n",
    "(192, 0, 64),\n",
    "(250, 237, 39),\n",
    "(0, 0, 192)]\n",
    "\n",
    "cmap = ListedColormap(colors)\n",
    "\n",
    "# Plot Image \n",
    "plt.subplot(1, 4, 1)\n",
    "plt.imshow(original)\n",
    "plt.title(\"Original Image\")\n",
    "plt.axis('off')\n",
    "\n",
    "# Plot Label Map\n",
    "plt.subplot(1, 4, 2)\n",
    "plt.imshow(label)\n",
    "plt.title('Original Label Map')\n",
    "plt.axis('off')\n",
    "\n",
    "# Plot Label Map\n",
    "plt.subplot(1, 4, 3)\n",
    "plt.imshow(pred)\n",
    "plt.title('Original Label Map')\n",
    "plt.axis('off')\n",
    "\n",
    "# Plot Mixed Overlap\n",
    "plt.subplot(1, 4, 4)\n",
    "plt.imshow(original)\n",
    "plt.imshow(label, alpha=1, cmap=cmap)\n",
    "plt.title(\"Overlap\")\n",
    "plt.axis('off')"
   ]
  }
 ],
 "metadata": {
  "kernelspec": {
   "display_name": "Python 3 (ipykernel)",
   "language": "python",
   "name": "python3"
  },
  "language_info": {
   "codemirror_mode": {
    "name": "ipython",
    "version": 3
   },
   "file_extension": ".py",
   "mimetype": "text/x-python",
   "name": "python",
   "nbconvert_exporter": "python",
   "pygments_lexer": "ipython3",
   "version": "3.11.9"
  }
 },
 "nbformat": 4,
 "nbformat_minor": 5
}
